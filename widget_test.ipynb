{
 "cells": [
  {
   "cell_type": "markdown",
   "metadata": {},
   "source": [
    "# Loading dataset"
   ]
  },
  {
   "cell_type": "code",
   "execution_count": 2,
   "metadata": {
    "collapsed": true
   },
   "outputs": [],
   "source": [
    "import pandas as pd  # convention, alias ``pd``"
   ]
  },
  {
   "cell_type": "code",
   "execution_count": 3,
   "metadata": {
    "collapsed": false,
    "scrolled": true
   },
   "outputs": [
    {
     "data": {
      "text/html": [
       "<div>\n",
       "<table border=\"1\" class=\"dataframe\">\n",
       "  <thead>\n",
       "    <tr style=\"text-align: right;\">\n",
       "      <th></th>\n",
       "      <th>mpg</th>\n",
       "      <th>cylinders</th>\n",
       "      <th>displacement</th>\n",
       "      <th>horsepower</th>\n",
       "      <th>weight</th>\n",
       "      <th>acceleration</th>\n",
       "      <th>year</th>\n",
       "      <th>origin</th>\n",
       "      <th>name</th>\n",
       "    </tr>\n",
       "  </thead>\n",
       "  <tbody>\n",
       "    <tr>\n",
       "      <th>0</th>\n",
       "      <td>18</td>\n",
       "      <td>8</td>\n",
       "      <td>307</td>\n",
       "      <td>130</td>\n",
       "      <td>3504</td>\n",
       "      <td>12.0</td>\n",
       "      <td>70</td>\n",
       "      <td>1</td>\n",
       "      <td>chevrolet chevelle malibu</td>\n",
       "    </tr>\n",
       "    <tr>\n",
       "      <th>1</th>\n",
       "      <td>15</td>\n",
       "      <td>8</td>\n",
       "      <td>350</td>\n",
       "      <td>165</td>\n",
       "      <td>3693</td>\n",
       "      <td>11.5</td>\n",
       "      <td>70</td>\n",
       "      <td>1</td>\n",
       "      <td>buick skylark 320</td>\n",
       "    </tr>\n",
       "    <tr>\n",
       "      <th>2</th>\n",
       "      <td>18</td>\n",
       "      <td>8</td>\n",
       "      <td>318</td>\n",
       "      <td>150</td>\n",
       "      <td>3436</td>\n",
       "      <td>11.0</td>\n",
       "      <td>70</td>\n",
       "      <td>1</td>\n",
       "      <td>plymouth satellite</td>\n",
       "    </tr>\n",
       "    <tr>\n",
       "      <th>3</th>\n",
       "      <td>16</td>\n",
       "      <td>8</td>\n",
       "      <td>304</td>\n",
       "      <td>150</td>\n",
       "      <td>3433</td>\n",
       "      <td>12.0</td>\n",
       "      <td>70</td>\n",
       "      <td>1</td>\n",
       "      <td>amc rebel sst</td>\n",
       "    </tr>\n",
       "    <tr>\n",
       "      <th>4</th>\n",
       "      <td>17</td>\n",
       "      <td>8</td>\n",
       "      <td>302</td>\n",
       "      <td>140</td>\n",
       "      <td>3449</td>\n",
       "      <td>10.5</td>\n",
       "      <td>70</td>\n",
       "      <td>1</td>\n",
       "      <td>ford torino</td>\n",
       "    </tr>\n",
       "  </tbody>\n",
       "</table>\n",
       "</div>"
      ],
      "text/plain": [
       "   mpg  cylinders  displacement horsepower  weight  acceleration  year  \\\n",
       "0   18          8           307        130    3504          12.0    70   \n",
       "1   15          8           350        165    3693          11.5    70   \n",
       "2   18          8           318        150    3436          11.0    70   \n",
       "3   16          8           304        150    3433          12.0    70   \n",
       "4   17          8           302        140    3449          10.5    70   \n",
       "\n",
       "   origin                       name  \n",
       "0       1  chevrolet chevelle malibu  \n",
       "1       1          buick skylark 320  \n",
       "2       1         plymouth satellite  \n",
       "3       1              amc rebel sst  \n",
       "4       1                ford torino  "
      ]
     },
     "execution_count": 3,
     "metadata": {},
     "output_type": "execute_result"
    }
   ],
   "source": [
    "auto = pd.read_csv(\"http://www-bcf.usc.edu/~gareth/ISL/Auto.csv\") #puts csv into data frame\n",
    "auto.head()  # print the first lines"
   ]
  },
  {
   "cell_type": "markdown",
   "metadata": {},
   "source": [
    "## Let's look at some summary statistics for the data"
   ]
  },
  {
   "cell_type": "code",
   "execution_count": 3,
   "metadata": {
    "collapsed": false,
    "scrolled": true
   },
   "outputs": [
    {
     "data": {
      "text/html": [
       "<div>\n",
       "<table border=\"1\" class=\"dataframe\">\n",
       "  <thead>\n",
       "    <tr style=\"text-align: right;\">\n",
       "      <th></th>\n",
       "      <th>mpg</th>\n",
       "      <th>cylinders</th>\n",
       "      <th>displacement</th>\n",
       "      <th>weight</th>\n",
       "      <th>acceleration</th>\n",
       "      <th>year</th>\n",
       "      <th>origin</th>\n",
       "    </tr>\n",
       "  </thead>\n",
       "  <tbody>\n",
       "    <tr>\n",
       "      <th>count</th>\n",
       "      <td>397.000000</td>\n",
       "      <td>397.000000</td>\n",
       "      <td>397.000000</td>\n",
       "      <td>397.000000</td>\n",
       "      <td>397.000000</td>\n",
       "      <td>397.000000</td>\n",
       "      <td>397.000000</td>\n",
       "    </tr>\n",
       "    <tr>\n",
       "      <th>mean</th>\n",
       "      <td>23.515869</td>\n",
       "      <td>5.458438</td>\n",
       "      <td>193.532746</td>\n",
       "      <td>2970.261965</td>\n",
       "      <td>15.555668</td>\n",
       "      <td>75.994962</td>\n",
       "      <td>1.574307</td>\n",
       "    </tr>\n",
       "    <tr>\n",
       "      <th>std</th>\n",
       "      <td>7.825804</td>\n",
       "      <td>1.701577</td>\n",
       "      <td>104.379583</td>\n",
       "      <td>847.904119</td>\n",
       "      <td>2.749995</td>\n",
       "      <td>3.690005</td>\n",
       "      <td>0.802549</td>\n",
       "    </tr>\n",
       "    <tr>\n",
       "      <th>min</th>\n",
       "      <td>9.000000</td>\n",
       "      <td>3.000000</td>\n",
       "      <td>68.000000</td>\n",
       "      <td>1613.000000</td>\n",
       "      <td>8.000000</td>\n",
       "      <td>70.000000</td>\n",
       "      <td>1.000000</td>\n",
       "    </tr>\n",
       "    <tr>\n",
       "      <th>25%</th>\n",
       "      <td>17.500000</td>\n",
       "      <td>4.000000</td>\n",
       "      <td>104.000000</td>\n",
       "      <td>2223.000000</td>\n",
       "      <td>13.800000</td>\n",
       "      <td>73.000000</td>\n",
       "      <td>1.000000</td>\n",
       "    </tr>\n",
       "    <tr>\n",
       "      <th>50%</th>\n",
       "      <td>23.000000</td>\n",
       "      <td>4.000000</td>\n",
       "      <td>146.000000</td>\n",
       "      <td>2800.000000</td>\n",
       "      <td>15.500000</td>\n",
       "      <td>76.000000</td>\n",
       "      <td>1.000000</td>\n",
       "    </tr>\n",
       "    <tr>\n",
       "      <th>75%</th>\n",
       "      <td>29.000000</td>\n",
       "      <td>8.000000</td>\n",
       "      <td>262.000000</td>\n",
       "      <td>3609.000000</td>\n",
       "      <td>17.100000</td>\n",
       "      <td>79.000000</td>\n",
       "      <td>2.000000</td>\n",
       "    </tr>\n",
       "    <tr>\n",
       "      <th>max</th>\n",
       "      <td>46.600000</td>\n",
       "      <td>8.000000</td>\n",
       "      <td>455.000000</td>\n",
       "      <td>5140.000000</td>\n",
       "      <td>24.800000</td>\n",
       "      <td>82.000000</td>\n",
       "      <td>3.000000</td>\n",
       "    </tr>\n",
       "  </tbody>\n",
       "</table>\n",
       "</div>"
      ],
      "text/plain": [
       "              mpg   cylinders  displacement       weight  acceleration  \\\n",
       "count  397.000000  397.000000    397.000000   397.000000    397.000000   \n",
       "mean    23.515869    5.458438    193.532746  2970.261965     15.555668   \n",
       "std      7.825804    1.701577    104.379583   847.904119      2.749995   \n",
       "min      9.000000    3.000000     68.000000  1613.000000      8.000000   \n",
       "25%     17.500000    4.000000    104.000000  2223.000000     13.800000   \n",
       "50%     23.000000    4.000000    146.000000  2800.000000     15.500000   \n",
       "75%     29.000000    8.000000    262.000000  3609.000000     17.100000   \n",
       "max     46.600000    8.000000    455.000000  5140.000000     24.800000   \n",
       "\n",
       "             year      origin  \n",
       "count  397.000000  397.000000  \n",
       "mean    75.994962    1.574307  \n",
       "std      3.690005    0.802549  \n",
       "min     70.000000    1.000000  \n",
       "25%     73.000000    1.000000  \n",
       "50%     76.000000    1.000000  \n",
       "75%     79.000000    2.000000  \n",
       "max     82.000000    3.000000  "
      ]
     },
     "execution_count": 3,
     "metadata": {},
     "output_type": "execute_result"
    }
   ],
   "source": [
    "auto.describe()"
   ]
  },
  {
   "cell_type": "code",
   "execution_count": 4,
   "metadata": {
    "collapsed": false
   },
   "outputs": [
    {
     "data": {
      "text/plain": [
       "count    397.000000\n",
       "mean      23.515869\n",
       "std        7.825804\n",
       "min        9.000000\n",
       "25%       17.500000\n",
       "50%       23.000000\n",
       "75%       29.000000\n",
       "max       46.600000\n",
       "Name: mpg, dtype: float64"
      ]
     },
     "execution_count": 4,
     "metadata": {},
     "output_type": "execute_result"
    }
   ],
   "source": [
    "auto['mpg'].describe()"
   ]
  },
  {
   "cell_type": "markdown",
   "metadata": {},
   "source": [
    "## Let's try to create a widget using column names"
   ]
  },
  {
   "cell_type": "code",
   "execution_count": 4,
   "metadata": {
    "collapsed": false
   },
   "outputs": [
    {
     "name": "stdout",
     "output_type": "stream",
     "text": [
      "['mpg' 'cylinders' 'displacement' 'horsepower' 'weight' 'acceleration'\n",
      " 'year' 'origin' 'name']\n",
      "['mpg', 'cylinders', 'displacement', 'horsepower', 'weight', 'acceleration', 'year', 'origin', 'name']\n"
     ]
    }
   ],
   "source": [
    "from IPython.display import display\n",
    "from ipywidgets import interact, interactive, fixed\n",
    "import ipywidgets as widgets\n",
    "\n",
    "print(auto.columns.values)\n",
    "c = list(auto.columns.values)\n",
    "print(c)\n",
    "\n",
    "w = widgets.Dropdown(\n",
    "    options=c, #make sure this is a list\n",
    "    description='Number:',\n",
    ")\n",
    "display(w) #this will be displayed above the printed list"
   ]
  },
  {
   "cell_type": "markdown",
   "metadata": {},
   "source": [
    "## Let's do something with that widget\n",
    "### Example 1\n",
    "The following code uses the describe function we used above and the ipywidget so that we can filter the data based on type. I wrote this with the help of the code under the \"Interact\" heading https://github.com/ipython/ipywidgets/blob/058a3bdf8c65293cf56e0422d08d00497354d2c3/examples/Using%20Interact.ipynb"
   ]
  },
  {
   "cell_type": "code",
   "execution_count": 9,
   "metadata": {
    "collapsed": false
   },
   "outputs": [
    {
     "name": "stdout",
     "output_type": "stream",
     "text": [
      "count    397.000000\n",
      "mean      23.515869\n",
      "std        7.825804\n",
      "min        9.000000\n",
      "25%       17.500000\n",
      "50%       23.000000\n",
      "75%       29.000000\n",
      "max       46.600000\n",
      "Name: mpg, dtype: float64\n"
     ]
    }
   ],
   "source": [
    "def col_summ(car_attribute):\n",
    "    print(auto[car_attribute].describe())\n",
    "c = list(auto.columns.values)    \n",
    "w3 = interactive(col_summ, car_attribute=c)\n",
    "display(w3)\n",
    "\n"
   ]
  },
  {
   "cell_type": "markdown",
   "metadata": {},
   "source": [
    "### Example 2\n",
    "Alternatively, I wrote this using the code under \"Using functions with interact\""
   ]
  },
  {
   "cell_type": "code",
   "execution_count": 10,
   "metadata": {
    "collapsed": false
   },
   "outputs": [
    {
     "name": "stdout",
     "output_type": "stream",
     "text": [
      "count    397.000000\n",
      "mean      23.515869\n",
      "std        7.825804\n",
      "min        9.000000\n",
      "25%       17.500000\n",
      "50%       23.000000\n",
      "75%       29.000000\n",
      "max       46.600000\n",
      "Name: mpg, dtype: float64\n"
     ]
    },
    {
     "data": {
      "text/plain": [
       "<function __main__.col_summ2>"
      ]
     },
     "execution_count": 10,
     "metadata": {},
     "output_type": "execute_result"
    }
   ],
   "source": [
    "def col_summ2(car_attribute:c):\n",
    "    print(auto[car_attribute].describe())\n",
    "    \n",
    "interact(col_summ2)"
   ]
  },
  {
   "cell_type": "code",
   "execution_count": 11,
   "metadata": {
    "collapsed": false
   },
   "outputs": [
    {
     "name": "stdout",
     "output_type": "stream",
     "text": [
      "count    397.000000\n",
      "mean       5.458438\n",
      "std        1.701577\n",
      "min        3.000000\n",
      "25%        4.000000\n",
      "50%        4.000000\n",
      "75%        8.000000\n",
      "max        8.000000\n",
      "Name: cylinders, dtype: float64\n"
     ]
    }
   ],
   "source": [
    "def f(a, b):\n",
    "    return a+b\n",
    "\n",
    "w2 = interactive(f, a=10, b=20)\n",
    "display(w2)\n",
    "\n",
    "def col_summ(col1):\n",
    "    print(auto[col1].describe())\n",
    "c = list(auto.columns.values)    \n",
    "w3 = interactive(col_summ, col1=c)\n",
    "display(w3)"
   ]
  },
  {
   "cell_type": "code",
   "execution_count": 4,
   "metadata": {
    "collapsed": false
   },
   "outputs": [
    {
     "data": {
      "text/plain": [
       "array([[<matplotlib.axes._subplots.AxesSubplot object at 0x0000000008C8A860>,\n",
       "        <matplotlib.axes._subplots.AxesSubplot object at 0x0000000008D5F668>,\n",
       "        <matplotlib.axes._subplots.AxesSubplot object at 0x0000000008DA9F28>,\n",
       "        <matplotlib.axes._subplots.AxesSubplot object at 0x0000000008D70588>,\n",
       "        <matplotlib.axes._subplots.AxesSubplot object at 0x0000000008E74A90>,\n",
       "        <matplotlib.axes._subplots.AxesSubplot object at 0x0000000009340278>,\n",
       "        <matplotlib.axes._subplots.AxesSubplot object at 0x000000000937C898>],\n",
       "       [<matplotlib.axes._subplots.AxesSubplot object at 0x0000000009468588>,\n",
       "        <matplotlib.axes._subplots.AxesSubplot object at 0x00000000094A4978>,\n",
       "        <matplotlib.axes._subplots.AxesSubplot object at 0x00000000094F2668>,\n",
       "        <matplotlib.axes._subplots.AxesSubplot object at 0x000000000952E860>,\n",
       "        <matplotlib.axes._subplots.AxesSubplot object at 0x0000000009575A58>,\n",
       "        <matplotlib.axes._subplots.AxesSubplot object at 0x00000000095AF860>,\n",
       "        <matplotlib.axes._subplots.AxesSubplot object at 0x00000000095FDC88>],\n",
       "       [<matplotlib.axes._subplots.AxesSubplot object at 0x000000000964C470>,\n",
       "        <matplotlib.axes._subplots.AxesSubplot object at 0x0000000009687A90>,\n",
       "        <matplotlib.axes._subplots.AxesSubplot object at 0x00000000096D4780>,\n",
       "        <matplotlib.axes._subplots.AxesSubplot object at 0x000000000970FB70>,\n",
       "        <matplotlib.axes._subplots.AxesSubplot object at 0x000000000A72C860>,\n",
       "        <matplotlib.axes._subplots.AxesSubplot object at 0x000000000A75B668>,\n",
       "        <matplotlib.axes._subplots.AxesSubplot object at 0x000000000A7A1F28>],\n",
       "       [<matplotlib.axes._subplots.AxesSubplot object at 0x000000000A7B2470>,\n",
       "        <matplotlib.axes._subplots.AxesSubplot object at 0x000000000A82BC50>,\n",
       "        <matplotlib.axes._subplots.AxesSubplot object at 0x000000000A87A748>,\n",
       "        <matplotlib.axes._subplots.AxesSubplot object at 0x000000000A8BC080>,\n",
       "        <matplotlib.axes._subplots.AxesSubplot object at 0x000000000A905B38>,\n",
       "        <matplotlib.axes._subplots.AxesSubplot object at 0x000000000A93EF28>,\n",
       "        <matplotlib.axes._subplots.AxesSubplot object at 0x000000000A98DC18>],\n",
       "       [<matplotlib.axes._subplots.AxesSubplot object at 0x000000000A9CAD30>,\n",
       "        <matplotlib.axes._subplots.AxesSubplot object at 0x000000000AA11F60>,\n",
       "        <matplotlib.axes._subplots.AxesSubplot object at 0x000000000AA4FD30>,\n",
       "        <matplotlib.axes._subplots.AxesSubplot object at 0x000000000AAA2080>,\n",
       "        <matplotlib.axes._subplots.AxesSubplot object at 0x000000000AAEC550>,\n",
       "        <matplotlib.axes._subplots.AxesSubplot object at 0x000000000AB25D68>,\n",
       "        <matplotlib.axes._subplots.AxesSubplot object at 0x000000000AB75860>],\n",
       "       [<matplotlib.axes._subplots.AxesSubplot object at 0x000000000ABB7080>,\n",
       "        <matplotlib.axes._subplots.AxesSubplot object at 0x000000000ABFEC18>,\n",
       "        <matplotlib.axes._subplots.AxesSubplot object at 0x000000000AC3AE48>,\n",
       "        <matplotlib.axes._subplots.AxesSubplot object at 0x000000000AC890B8>,\n",
       "        <matplotlib.axes._subplots.AxesSubplot object at 0x000000000ACBFE48>,\n",
       "        <matplotlib.axes._subplots.AxesSubplot object at 0x000000000AD12198>,\n",
       "        <matplotlib.axes._subplots.AxesSubplot object at 0x000000000AD5B668>],\n",
       "       [<matplotlib.axes._subplots.AxesSubplot object at 0x000000000AD98E80>,\n",
       "        <matplotlib.axes._subplots.AxesSubplot object at 0x000000000ADE6978>,\n",
       "        <matplotlib.axes._subplots.AxesSubplot object at 0x000000000AE12DD8>,\n",
       "        <matplotlib.axes._subplots.AxesSubplot object at 0x000000000AE64128>,\n",
       "        <matplotlib.axes._subplots.AxesSubplot object at 0x000000000AE9EDD8>,\n",
       "        <matplotlib.axes._subplots.AxesSubplot object at 0x000000000AEE5FD0>,\n",
       "        <matplotlib.axes._subplots.AxesSubplot object at 0x000000000AF0ADD8>]], dtype=object)"
      ]
     },
     "execution_count": 4,
     "metadata": {},
     "output_type": "execute_result"
    }
   ],
   "source": [
    "from pandas.tools.plotting import scatter_matrix\n",
    "import matplotlib.pyplot\n",
    "matplotlib.style.use('ggplot')\n",
    "scatter_matrix(auto, alpha=0.2, figsize=(6, 6), diagonal='kde')"
   ]
  },
  {
   "cell_type": "code",
   "execution_count": 46,
   "metadata": {
    "collapsed": false
   },
   "outputs": [
    {
     "ename": "NameError",
     "evalue": "name 'Series' is not defined",
     "output_type": "error",
     "traceback": [
      "\u001b[1;31m---------------------------------------------------------------------------\u001b[0m",
      "\u001b[1;31mNameError\u001b[0m                                 Traceback (most recent call last)",
      "\u001b[1;32m<ipython-input-46-b39bef79063c>\u001b[0m in \u001b[0;36m<module>\u001b[1;34m()\u001b[0m\n\u001b[1;32m----> 1\u001b[1;33m \u001b[0mts\u001b[0m \u001b[1;33m=\u001b[0m \u001b[0mSeries\u001b[0m\u001b[1;33m(\u001b[0m\u001b[0mrandn\u001b[0m\u001b[1;33m(\u001b[0m\u001b[1;36m1000\u001b[0m\u001b[1;33m)\u001b[0m\u001b[1;33m,\u001b[0m \u001b[0mindex\u001b[0m\u001b[1;33m=\u001b[0m\u001b[0mdate_range\u001b[0m\u001b[1;33m(\u001b[0m\u001b[1;34m'1/1/2000'\u001b[0m\u001b[1;33m,\u001b[0m \u001b[0mperiods\u001b[0m\u001b[1;33m=\u001b[0m\u001b[1;36m1000\u001b[0m\u001b[1;33m)\u001b[0m\u001b[1;33m)\u001b[0m\u001b[1;33m\u001b[0m\u001b[0m\n\u001b[0m\u001b[0;32m      2\u001b[0m \u001b[1;33m\u001b[0m\u001b[0m\n\u001b[0;32m      3\u001b[0m \u001b[0mts\u001b[0m \u001b[1;33m=\u001b[0m \u001b[0mts\u001b[0m\u001b[1;33m.\u001b[0m\u001b[0mcumsum\u001b[0m\u001b[1;33m(\u001b[0m\u001b[1;33m)\u001b[0m\u001b[1;33m\u001b[0m\u001b[0m\n\u001b[0;32m      4\u001b[0m \u001b[1;33m\u001b[0m\u001b[0m\n\u001b[0;32m      5\u001b[0m \u001b[0mts\u001b[0m\u001b[1;33m.\u001b[0m\u001b[0mplot\u001b[0m\u001b[1;33m(\u001b[0m\u001b[1;33m)\u001b[0m\u001b[1;33m\u001b[0m\u001b[0m\n",
      "\u001b[1;31mNameError\u001b[0m: name 'Series' is not defined"
     ]
    }
   ],
   "source": [
    "ts = Series(randn(1000), index=date_range('1/1/2000', periods=1000))\n",
    "\n",
    "ts = ts.cumsum()\n",
    "\n",
    "ts.plot()"
   ]
  },
  {
   "cell_type": "code",
   "execution_count": null,
   "metadata": {
    "collapsed": true
   },
   "outputs": [],
   "source": []
  }
 ],
 "metadata": {
  "kernelspec": {
   "display_name": "Python 3",
   "language": "python",
   "name": "python3"
  },
  "language_info": {
   "codemirror_mode": {
    "name": "ipython",
    "version": 3
   },
   "file_extension": ".py",
   "mimetype": "text/x-python",
   "name": "python",
   "nbconvert_exporter": "python",
   "pygments_lexer": "ipython3",
   "version": "3.5.1"
  }
 },
 "nbformat": 4,
 "nbformat_minor": 0
}
